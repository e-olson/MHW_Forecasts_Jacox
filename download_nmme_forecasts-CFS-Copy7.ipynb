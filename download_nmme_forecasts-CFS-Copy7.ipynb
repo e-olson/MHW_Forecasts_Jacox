{
 "cells": [
  {
   "cell_type": "code",
   "execution_count": 1,
   "id": "e3965cb8-86b2-4f1c-9bd7-245f08d7f35a",
   "metadata": {},
   "outputs": [],
   "source": [
    "import numpy as np\n",
    "import xarray as xr\n",
    "import datetime as dt\n",
    "import os\n",
    "import matplotlib.pyplot as plt"
   ]
  },
  {
   "cell_type": "code",
   "execution_count": 2,
   "id": "feb0f33d-32a0-4b38-b4e4-a2f8f0425084",
   "metadata": {},
   "outputs": [],
   "source": [
    "# Input directory for NMME forecast output\n",
    "dirin = 'https://iridl.ldeo.columbia.edu/SOURCES/.Models/.NMME'\n",
    "# Output directory for downloads\n",
    "dirout = '/space/hall5/sitestore/eccc/crd/ccrn/users/reo000/work/MHW'#/NMME_SST/by_lead\n",
    "# Model names\n",
    "mods = ['CanSIPS-IC4',]#'GEM5.2NEMO',]#'CanCM4i', 'COLA-RSMAS-CCSM4', 'GEM-NEMO','GFDL-SPEAR', 'NASA-GEOSS2S',\n",
    "# Number of time steps to grab at each opendap call (to avoid download\n",
    "# failures)\n",
    "time_chunk = 10;"
   ]
  },
  {
   "cell_type": "code",
   "execution_count": 3,
   "id": "2631c68e-d2e2-493e-9aac-20a5bc49ba83",
   "metadata": {},
   "outputs": [
    {
     "data": {
      "text/plain": [
       "'CanSIPS-IC4'"
      ]
     },
     "execution_count": 3,
     "metadata": {},
     "output_type": "execute_result"
    }
   ],
   "source": [
    "imod=0\n",
    "modi=mods[imod]\n",
    "modi"
   ]
  },
  {
   "cell_type": "code",
   "execution_count": null,
   "id": "e7fa8498-33f9-4d4a-a55d-6423a5a4febb",
   "metadata": {},
   "outputs": [
    {
     "name": "stdout",
     "output_type": "stream",
     "text": [
      "\n",
      "Downloading CanSIPS-IC4 hindcasts (start time 2024-08-24 01:58:01.701622)\n",
      "\n",
      "Progress\n",
      "--------\n",
      "https://iridl.ldeo.columbia.edu/SOURCES/.Models/.NMME/CanSIPS-IC4/.HINDCAST/.MONTHLY/.sst/dods\n",
      "\n",
      "lead 10\n",
      "   member\n",
      "    0\n"
     ]
    },
    {
     "name": "stderr",
     "output_type": "stream",
     "text": [
      "syntax error, unexpected WORD_WORD, expecting SCAN_ATTR or SCAN_DATASET or SCAN_ERROR\n",
      "context: <!DOCTYPE^ HTML PUBLIC \"-//W3C//DTD HTML 4.01 Transitional//EN\" \"http://www.w3.org/TR/html4/loose.dtd\"><HTML><HEAD><META HTTP-EQUIV=\"Content-Type\" CONTENT=\"text/html; charset=iso-8859-1\"><TITLE>ERROR: The requested URL could not be retrieved</TITLE><STYLE type=\"text/css\"><!--BODY{background-color:#ffffff;font-family:verdana,sans-serif}PRE{font-family:sans-serif}--></STYLE></HEAD><BODY><H1>ERROR</H1><H2>The requested URL could not be retrieved</H2><HR noshade size=\"1px\"><P>While trying to retrieve the URL:<A HREF=\"https://iridl.ldeo.columbia.edu/SOURCES/.Models/.NMME/CanSIPS-IC4/.HINDCAST/.MONTHLY/.sst/dods.dods?sst.sst%5b0:9%5d%5b1%5d%5b10%5d%5b0:180%5d%5b0:359%5d\">https://iridl.ldeo.columbia.edu/SOURCES/.Models/.NMME/CanSIPS-IC4/.HINDCAST/.MONTHLY/.sst/dods.dods?sst.sst%5b0:9%5d%5b1%5d%5b10%5d%5b0:180%5d%5b0:359%5d</A><P>The following error was encountered:<UL><LI><STRONG>Unable to forward this request at this time.</STRONG></UL><P>This request could not be forwarded to the origin server or to anyparent caches. The most likely cause for this error is that:<UL><LI>The cache administrator does not allow this cache to make  direct connections to origin servers, and<LI>All configured parent caches are currently unreachable.</UL><P>Your cache administrator is <A HREF=\"mailto:webmaster\">webmaster</A>. <BR clear=\"all\"><HR noshade size=\"1px\"><ADDRESS>Generated Sat, 24 Aug 2024 01:59:28 GMT by iridls1.ldeo.columbia.edu (squid/2.7.STABLE9)</ADDRESS></BODY></HTML>\n",
      "syntax error, unexpected WORD_WORD, expecting SCAN_ATTR or SCAN_DATASET or SCAN_ERROR\n",
      "context: <!DOCTYPE^ HTML PUBLIC \"-//W3C//DTD HTML 4.01 Transitional//EN\" \"http://www.w3.org/TR/html4/loose.dtd\"><HTML><HEAD><META HTTP-EQUIV=\"Content-Type\" CONTENT=\"text/html; charset=iso-8859-1\"><TITLE>ERROR: The requested URL could not be retrieved</TITLE><STYLE type=\"text/css\"><!--BODY{background-color:#ffffff;font-family:verdana,sans-serif}PRE{font-family:sans-serif}--></STYLE></HEAD><BODY><H1>ERROR</H1><H2>The requested URL could not be retrieved</H2><HR noshade size=\"1px\"><P>While trying to retrieve the URL:<A HREF=\"https://iridl.ldeo.columbia.edu/SOURCES/.Models/.NMME/CanSIPS-IC4/.HINDCAST/.MONTHLY/.sst/dods.dods?sst.sst%5b0:9%5d%5b1%5d%5b10%5d%5b0:180%5d%5b0:359%5d\">https://iridl.ldeo.columbia.edu/SOURCES/.Models/.NMME/CanSIPS-IC4/.HINDCAST/.MONTHLY/.sst/dods.dods?sst.sst%5b0:9%5d%5b1%5d%5b10%5d%5b0:180%5d%5b0:359%5d</A><P>The following error was encountered:<UL><LI><STRONG>Unable to forward this request at this time.</STRONG></UL><P>This request could not be forwarded to the origin server or to anyparent caches. The most likely cause for this error is that:<UL><LI>The cache administrator does not allow this cache to make  direct connections to origin servers, and<LI>All configured parent caches are currently unreachable.</UL><P>Your cache administrator is <A HREF=\"mailto:webmaster\">webmaster</A>. <BR clear=\"all\"><HR noshade size=\"1px\"><ADDRESS>Generated Sat, 24 Aug 2024 01:59:28 GMT by iridls1.ldeo.columbia.edu (squid/2.7.STABLE9)</ADDRESS></BODY></HTML>\n",
      "syntax error, unexpected WORD_WORD, expecting SCAN_ATTR or SCAN_DATASET or SCAN_ERROR\n",
      "context: <!DOCTYPE^ HTML PUBLIC \"-//W3C//DTD HTML 4.01 Transitional//EN\" \"http://www.w3.org/TR/html4/loose.dtd\"><HTML><HEAD><META HTTP-EQUIV=\"Content-Type\" CONTENT=\"text/html; charset=iso-8859-1\"><TITLE>ERROR: The requested URL could not be retrieved</TITLE><STYLE type=\"text/css\"><!--BODY{background-color:#ffffff;font-family:verdana,sans-serif}PRE{font-family:sans-serif}--></STYLE></HEAD><BODY><H1>ERROR</H1><H2>The requested URL could not be retrieved</H2><HR noshade size=\"1px\"><P>While trying to retrieve the URL:<A HREF=\"https://iridl.ldeo.columbia.edu/SOURCES/.Models/.NMME/CanSIPS-IC4/.HINDCAST/.MONTHLY/.sst/dods.dods?sst.sst%5b0:9%5d%5b1%5d%5b10%5d%5b0:180%5d%5b0:359%5d\">https://iridl.ldeo.columbia.edu/SOURCES/.Models/.NMME/CanSIPS-IC4/.HINDCAST/.MONTHLY/.sst/dods.dods?sst.sst%5b0:9%5d%5b1%5d%5b10%5d%5b0:180%5d%5b0:359%5d</A><P>The following error was encountered:<UL><LI><STRONG>Unable to forward this request at this time.</STRONG></UL><P>This request could not be forwarded to the origin server or to anyparent caches. The most likely cause for this error is that:<UL><LI>The cache administrator does not allow this cache to make  direct connections to origin servers, and<LI>All configured parent caches are currently unreachable.</UL><P>Your cache administrator is <A HREF=\"mailto:webmaster\">webmaster</A>. <BR clear=\"all\"><HR noshade size=\"1px\"><ADDRESS>Generated Sat, 24 Aug 2024 01:59:30 GMT by iridls1.ldeo.columbia.edu (squid/2.7.STABLE9)</ADDRESS></BODY></HTML>\n",
      "syntax error, unexpected WORD_WORD, expecting SCAN_ATTR or SCAN_DATASET or SCAN_ERROR\n",
      "context: <!DOCTYPE^ HTML PUBLIC \"-//W3C//DTD HTML 4.01 Transitional//EN\" \"http://www.w3.org/TR/html4/loose.dtd\"><HTML><HEAD><META HTTP-EQUIV=\"Content-Type\" CONTENT=\"text/html; charset=iso-8859-1\"><TITLE>ERROR: The requested URL could not be retrieved</TITLE><STYLE type=\"text/css\"><!--BODY{background-color:#ffffff;font-family:verdana,sans-serif}PRE{font-family:sans-serif}--></STYLE></HEAD><BODY><H1>ERROR</H1><H2>The requested URL could not be retrieved</H2><HR noshade size=\"1px\"><P>While trying to retrieve the URL:<A HREF=\"https://iridl.ldeo.columbia.edu/SOURCES/.Models/.NMME/CanSIPS-IC4/.HINDCAST/.MONTHLY/.sst/dods.dods?sst.sst%5b0:9%5d%5b1%5d%5b10%5d%5b0:180%5d%5b0:359%5d\">https://iridl.ldeo.columbia.edu/SOURCES/.Models/.NMME/CanSIPS-IC4/.HINDCAST/.MONTHLY/.sst/dods.dods?sst.sst%5b0:9%5d%5b1%5d%5b10%5d%5b0:180%5d%5b0:359%5d</A><P>The following error was encountered:<UL><LI><STRONG>Unable to forward this request at this time.</STRONG></UL><P>This request could not be forwarded to the origin server or to anyparent caches. The most likely cause for this error is that:<UL><LI>The cache administrator does not allow this cache to make  direct connections to origin servers, and<LI>All configured parent caches are currently unreachable.</UL><P>Your cache administrator is <A HREF=\"mailto:webmaster\">webmaster</A>. <BR clear=\"all\"><HR noshade size=\"1px\"><ADDRESS>Generated Sat, 24 Aug 2024 01:59:34 GMT by iridls1.ldeo.columbia.edu (squid/2.7.STABLE9)</ADDRESS></BODY></HTML>\n",
      "syntax error, unexpected WORD_WORD, expecting SCAN_ATTR or SCAN_DATASET or SCAN_ERROR\n",
      "context: <!DOCTYPE^ HTML PUBLIC \"-//W3C//DTD HTML 4.01 Transitional//EN\" \"http://www.w3.org/TR/html4/loose.dtd\"><HTML><HEAD><META HTTP-EQUIV=\"Content-Type\" CONTENT=\"text/html; charset=iso-8859-1\"><TITLE>ERROR: The requested URL could not be retrieved</TITLE><STYLE type=\"text/css\"><!--BODY{background-color:#ffffff;font-family:verdana,sans-serif}PRE{font-family:sans-serif}--></STYLE></HEAD><BODY><H1>ERROR</H1><H2>The requested URL could not be retrieved</H2><HR noshade size=\"1px\"><P>While trying to retrieve the URL:<A HREF=\"https://iridl.ldeo.columbia.edu/SOURCES/.Models/.NMME/CanSIPS-IC4/.HINDCAST/.MONTHLY/.sst/dods.dods?sst.sst%5b0:9%5d%5b1%5d%5b10%5d%5b0:180%5d%5b0:359%5d\">https://iridl.ldeo.columbia.edu/SOURCES/.Models/.NMME/CanSIPS-IC4/.HINDCAST/.MONTHLY/.sst/dods.dods?sst.sst%5b0:9%5d%5b1%5d%5b10%5d%5b0:180%5d%5b0:359%5d</A><P>The following error was encountered:<UL><LI><STRONG>Unable to forward this request at this time.</STRONG></UL><P>This request could not be forwarded to the origin server or to anyparent caches. The most likely cause for this error is that:<UL><LI>The cache administrator does not allow this cache to make  direct connections to origin servers, and<LI>All configured parent caches are currently unreachable.</UL><P>Your cache administrator is <A HREF=\"mailto:webmaster\">webmaster</A>. <BR clear=\"all\"><HR noshade size=\"1px\"><ADDRESS>Generated Sat, 24 Aug 2024 01:59:41 GMT by iridls1.ldeo.columbia.edu (squid/2.7.STABLE9)</ADDRESS></BODY></HTML>\n"
     ]
    }
   ],
   "source": [
    "def _sourcepath(modi,str1):\n",
    "    if modi=='COLA-RSMAS-CCSM4':\n",
    "        fin=f'{dirin}/{modi}/.MONTHLY/.sst/dods'\n",
    "    elif modi=='NCEP-CFSv2':\n",
    "        fin=f'{dirin}/{modi}/HINDCAST/.PENTAD_SAMPLES_FULL/.sst/dods'\n",
    "    elif modi in {'CanCM4i', 'GEM-NEMO','GFDL-SPEAR', 'NASA-GEOSS2S','CanSIPS-IC4'}:\n",
    "        fin=f'{dirin}/{modi}/.{str1.upper()}/.MONTHLY/.sst/dods'\n",
    "    elif modi in {'CanESM5','GEM5.2-NEMO',}:\n",
    "        fin=f'{dirin}/.CanSIPS-IC4/.{modi}/.{str1.upper()}/.MONTHLY/.sst/dods'\n",
    "    return fin\n",
    "def dl(modi,str1='hindcast'):\n",
    "    # options: 'hindcast' or 'forecast': handle models with separate forecast directories\n",
    "    # Can models use a different order of dimensions from others (managed by xarray) \n",
    "    print(f'\\nDownloading {modi} {str1}s (start time {dt.datetime.now()})\\n')\n",
    "    print('Progress\\n--------')\n",
    "    fin_hc = _sourcepath(modi,str1)\n",
    "    print(fin_hc)\n",
    "    fi=xr.open_dataset(fin_hc,decode_times=False)\n",
    "    lon = fi.X.values # Lon\n",
    "    lat = fi.Y.values # Lat\n",
    "    time = fi.S.values # start time (months)\n",
    "    nt = len(time)\n",
    "    nl = len(fi.L.values) # lead time\n",
    "    nm = len(fi.M.values) # member\n",
    "    for il in range(10,nl):\n",
    "        sst=np.empty((nt,nm,len(lat),len(lon)))\n",
    "        print(f'\\nlead {il}\\n   member')\n",
    "        fout = f'{dirout}/{str1}/sst_{modi}_{str1}_l{il}.nc'\n",
    "        # Loop through members\n",
    "        for im in range(0,nm):\n",
    "            # Subset times\n",
    "            tstart = 0\n",
    "            for tt in range(0,np.ceil(nt/time_chunk).astype(int)):\n",
    "                tcount = min(time_chunk,nt-tstart+1)\n",
    "                isdone = False\n",
    "                while not isdone: # Loop to ensure download succeeds\n",
    "                    try: \n",
    "                        sst[tstart:tstart+tcount,im,:,:]=fi.sst.isel(S=slice(tstart,(tstart+tcount)),\n",
    "                                                                     M=im,L=il).values\n",
    "                        tstart = tstart + tcount\n",
    "                        isdone = True\n",
    "                    except:\n",
    "                        raise\n",
    "                        print(' x')                \n",
    "            print('   ',im)\n",
    "        xout=xr.Dataset(data_vars={'lon':(['X',],lon),\n",
    "                                'lat':(['Y',],lat),\n",
    "                                'time':(['S'],time),\n",
    "                                'sst':(['S','M','Y','X'],sst)},\n",
    "                    coords=dict(X=fi.X,Y=fi.Y,M=fi.M,S=fi.S),\n",
    "                    attrs={'description':'downloaded from http://iridl.ldeo.columbia.edu/SOURCES/.Models/.NMME'})\n",
    "        xout.to_netcdf(fout,mode='w')\n",
    "        del sst; del xout; fi.close()\n",
    "    return\n",
    "for modi in mods:\n",
    "    dl(modi,'hindcast')\n",
    "    # if modi in {'CanCM4i', 'GEM-NEMO','GFDL-SPEAR', 'NASA-GEOSS2S','CanESM5','GEM5.2-NEMO',}:\n",
    "    #     dl(modi,'forecast')\n",
    "print('\\nDONE\\n\\n')"
   ]
  },
  {
   "cell_type": "code",
   "execution_count": null,
   "id": "5e4f47c4-dae4-4fae-a6d5-b1775d724b38",
   "metadata": {},
   "outputs": [],
   "source": []
  }
 ],
 "metadata": {
  "kernelspec": {
   "display_name": "Python (py39dc2)",
   "language": "python",
   "name": "py39dc2"
  },
  "language_info": {
   "codemirror_mode": {
    "name": "ipython",
    "version": 3
   },
   "file_extension": ".py",
   "mimetype": "text/x-python",
   "name": "python",
   "nbconvert_exporter": "python",
   "pygments_lexer": "ipython3",
   "version": "3.9.19"
  }
 },
 "nbformat": 4,
 "nbformat_minor": 5
}
