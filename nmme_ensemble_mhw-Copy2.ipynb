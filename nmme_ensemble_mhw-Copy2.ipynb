{
 "cells": [
  {
   "cell_type": "code",
   "execution_count": 1,
   "id": "82a94e5b-96f5-4dc9-9dc8-b1e731c6fbcb",
   "metadata": {},
   "outputs": [],
   "source": [
    "import numpy as np\n",
    "import xarray as xr\n",
    "import datetime as dt\n",
    "import os\n",
    "import matplotlib.pyplot as plt"
   ]
  },
  {
   "cell_type": "code",
   "execution_count": 2,
   "id": "66fba2f3-6467-4c9d-a028-be916f12f394",
   "metadata": {},
   "outputs": [],
   "source": [
    "is_detrend= 1#0 #1 to use detrended anomalies (default), 0 otherwise"
   ]
  },
  {
   "cell_type": "code",
   "execution_count": 3,
   "id": "4bc4870f-941e-4f3d-9081-fc5ed846bc6d",
   "metadata": {},
   "outputs": [],
   "source": [
    "# Years to process and years to use as climatology for thresholds\n",
    "years = [1991, 2020]\n",
    "clim_years = [1991, 2020]\n",
    "\n",
    "basepath='/space/hall5/sitestore/eccc/crd/ccrn/users/reo000/work/MHW'\n",
    "# Input/output directory\n",
    "if is_detrend:\n",
    "    dir = basepath+'/mhw/detrended';\n",
    "else:\n",
    "    dir = basepath+'/mhw';\n",
    "\n",
    "# Model names\n",
    "#           1              2               3            4              5             6\n",
    "mods = ['CanCM4i', 'COLA-RSMAS-CCSM4', 'GEM-NEMO', 'GFDL-SPEAR', 'NASA-GEOSS2S', 'NCEP-CFSv2']#\n",
    "nmod = len(mods)\n",
    "nl = dict(zip(mods,[11, 11, 11, 11, 8, 9])) # Max lead time for each model\n",
    "#mods = [ 'GFDL-SPEAR', 'NASA-GEOSS2S', 'NCEP-CFSv2']#"
   ]
  },
  {
   "cell_type": "code",
   "execution_count": 4,
   "id": "c67ff64c-efeb-4404-aba2-445c0e750c37",
   "metadata": {},
   "outputs": [
    {
     "name": "stdout",
     "output_type": "stream",
     "text": [
      "\n",
      "Building multimodel ensemble for NMME MHW forecasts...\n",
      "\n",
      "Lead\n",
      "  10\n",
      "/space/hall5/sitestore/eccc/crd/ccrn/users/reo000/work/MHW/mhw/detrended/mhw_MME_l10_detrended_1991_2020.nc\n"
     ]
    },
    {
     "ename": "RuntimeError",
     "evalue": "NetCDF: Not a valid ID",
     "output_type": "error",
     "traceback": [
      "\u001b[0;31m---------------------------------------------------------------------------\u001b[0m",
      "\u001b[0;31mRuntimeError\u001b[0m                              Traceback (most recent call last)",
      "Cell \u001b[0;32mIn[4], line 33\u001b[0m\n\u001b[1;32m     31\u001b[0m         f_out \u001b[38;5;241m=\u001b[39m \u001b[38;5;124mf\u001b[39m\u001b[38;5;124m'\u001b[39m\u001b[38;5;132;01m{\u001b[39;00m\u001b[38;5;28mdir\u001b[39m\u001b[38;5;132;01m}\u001b[39;00m\u001b[38;5;124m/mhw_MME_l\u001b[39m\u001b[38;5;132;01m{\u001b[39;00mil\u001b[38;5;132;01m}\u001b[39;00m\u001b[38;5;124m_\u001b[39m\u001b[38;5;132;01m{\u001b[39;00myears[\u001b[38;5;241m0\u001b[39m]\u001b[38;5;132;01m}\u001b[39;00m\u001b[38;5;124m_\u001b[39m\u001b[38;5;132;01m{\u001b[39;00myears[\u001b[38;5;241m1\u001b[39m]\u001b[38;5;132;01m}\u001b[39;00m\u001b[38;5;124m.nc\u001b[39m\u001b[38;5;124m'\u001b[39m\n\u001b[1;32m     32\u001b[0m     out\u001b[38;5;241m.\u001b[39mto_netcdf(f_out,mode\u001b[38;5;241m=\u001b[39m\u001b[38;5;124m'\u001b[39m\u001b[38;5;124mw\u001b[39m\u001b[38;5;124m'\u001b[39m)\n\u001b[0;32m---> 33\u001b[0m     \u001b[43mfin\u001b[49m\u001b[38;5;241;43m.\u001b[39;49m\u001b[43mclose\u001b[49m\u001b[43m(\u001b[49m\u001b[43m)\u001b[49m\n\u001b[1;32m     34\u001b[0m \u001b[38;5;66;03m#             fin=xr.open_dataset(f_in)\u001b[39;00m\n\u001b[1;32m     35\u001b[0m             \n\u001b[1;32m     36\u001b[0m \u001b[38;5;66;03m#             is_mhw_ens.append(fin.is_mhw.values)\u001b[39;00m\n\u001b[0;32m   (...)\u001b[0m\n\u001b[1;32m     55\u001b[0m \u001b[38;5;66;03m#     xout.to_netcdf(f_out,mode='w')\u001b[39;00m\n\u001b[1;32m     56\u001b[0m \u001b[38;5;66;03m#     del is_mhw; del is_mhw_ens; del mhw_prob;\u001b[39;00m\n\u001b[1;32m     57\u001b[0m \u001b[38;5;28mprint\u001b[39m(\u001b[38;5;124m'\u001b[39m\u001b[38;5;130;01m\\n\u001b[39;00m\u001b[38;5;124mDone\u001b[39m\u001b[38;5;130;01m\\n\u001b[39;00m\u001b[38;5;130;01m\\n\u001b[39;00m\u001b[38;5;124m'\u001b[39m)\n",
      "File \u001b[0;32m/home/ords/crd/ccrn/reo000/miniconda3/envs/py39dc2/lib/python3.9/site-packages/xarray/core/common.py:1267\u001b[0m, in \u001b[0;36mDataWithCoords.close\u001b[0;34m(self)\u001b[0m\n\u001b[1;32m   1265\u001b[0m \u001b[38;5;250m\u001b[39m\u001b[38;5;124;03m\"\"\"Release any resources linked to this object.\"\"\"\u001b[39;00m\n\u001b[1;32m   1266\u001b[0m \u001b[38;5;28;01mif\u001b[39;00m \u001b[38;5;28mself\u001b[39m\u001b[38;5;241m.\u001b[39m_close \u001b[38;5;129;01mis\u001b[39;00m \u001b[38;5;129;01mnot\u001b[39;00m \u001b[38;5;28;01mNone\u001b[39;00m:\n\u001b[0;32m-> 1267\u001b[0m     \u001b[38;5;28;43mself\u001b[39;49m\u001b[38;5;241;43m.\u001b[39;49m\u001b[43m_close\u001b[49m\u001b[43m(\u001b[49m\u001b[43m)\u001b[49m\n\u001b[1;32m   1268\u001b[0m \u001b[38;5;28mself\u001b[39m\u001b[38;5;241m.\u001b[39m_close \u001b[38;5;241m=\u001b[39m \u001b[38;5;28;01mNone\u001b[39;00m\n",
      "File \u001b[0;32m/home/ords/crd/ccrn/reo000/miniconda3/envs/py39dc2/lib/python3.9/site-packages/xarray/backends/api.py:252\u001b[0m, in \u001b[0;36m_multi_file_closer\u001b[0;34m(closers)\u001b[0m\n\u001b[1;32m    250\u001b[0m \u001b[38;5;28;01mdef\u001b[39;00m \u001b[38;5;21m_multi_file_closer\u001b[39m(closers):\n\u001b[1;32m    251\u001b[0m     \u001b[38;5;28;01mfor\u001b[39;00m closer \u001b[38;5;129;01min\u001b[39;00m closers:\n\u001b[0;32m--> 252\u001b[0m         \u001b[43mcloser\u001b[49m\u001b[43m(\u001b[49m\u001b[43m)\u001b[49m\n",
      "File \u001b[0;32m/home/ords/crd/ccrn/reo000/miniconda3/envs/py39dc2/lib/python3.9/site-packages/xarray/backends/netCDF4_.py:577\u001b[0m, in \u001b[0;36mNetCDF4DataStore.close\u001b[0;34m(self, **kwargs)\u001b[0m\n\u001b[1;32m    576\u001b[0m \u001b[38;5;28;01mdef\u001b[39;00m \u001b[38;5;21mclose\u001b[39m(\u001b[38;5;28mself\u001b[39m, \u001b[38;5;241m*\u001b[39m\u001b[38;5;241m*\u001b[39mkwargs):\n\u001b[0;32m--> 577\u001b[0m     \u001b[38;5;28;43mself\u001b[39;49m\u001b[38;5;241;43m.\u001b[39;49m\u001b[43m_manager\u001b[49m\u001b[38;5;241;43m.\u001b[39;49m\u001b[43mclose\u001b[49m\u001b[43m(\u001b[49m\u001b[38;5;241;43m*\u001b[39;49m\u001b[38;5;241;43m*\u001b[39;49m\u001b[43mkwargs\u001b[49m\u001b[43m)\u001b[49m\n",
      "File \u001b[0;32m/home/ords/crd/ccrn/reo000/miniconda3/envs/py39dc2/lib/python3.9/site-packages/xarray/backends/file_manager.py:234\u001b[0m, in \u001b[0;36mCachingFileManager.close\u001b[0;34m(self, needs_lock)\u001b[0m\n\u001b[1;32m    232\u001b[0m file \u001b[38;5;241m=\u001b[39m \u001b[38;5;28mself\u001b[39m\u001b[38;5;241m.\u001b[39m_cache\u001b[38;5;241m.\u001b[39mpop(\u001b[38;5;28mself\u001b[39m\u001b[38;5;241m.\u001b[39m_key, default)\n\u001b[1;32m    233\u001b[0m \u001b[38;5;28;01mif\u001b[39;00m file \u001b[38;5;129;01mis\u001b[39;00m \u001b[38;5;129;01mnot\u001b[39;00m \u001b[38;5;28;01mNone\u001b[39;00m:\n\u001b[0;32m--> 234\u001b[0m     \u001b[43mfile\u001b[49m\u001b[38;5;241;43m.\u001b[39;49m\u001b[43mclose\u001b[49m\u001b[43m(\u001b[49m\u001b[43m)\u001b[49m\n",
      "File \u001b[0;32msrc/netCDF4/_netCDF4.pyx:2618\u001b[0m, in \u001b[0;36mnetCDF4._netCDF4.Dataset.close\u001b[0;34m()\u001b[0m\n",
      "File \u001b[0;32msrc/netCDF4/_netCDF4.pyx:2585\u001b[0m, in \u001b[0;36mnetCDF4._netCDF4.Dataset._close\u001b[0;34m()\u001b[0m\n",
      "File \u001b[0;32msrc/netCDF4/_netCDF4.pyx:2113\u001b[0m, in \u001b[0;36mnetCDF4._netCDF4._ensure_nc_success\u001b[0;34m()\u001b[0m\n",
      "\u001b[0;31mRuntimeError\u001b[0m: NetCDF: Not a valid ID"
     ]
    }
   ],
   "source": [
    "# Loop through lead times\n",
    "print('\\nBuilding multimodel ensemble for NMME MHW forecasts...\\n')\n",
    "print('Lead')\n",
    "for il in (10,):#range(0,np.max(list(nl.values()))):\n",
    "    print(' ',il)\n",
    "        \n",
    "    # Loop through models\n",
    "    is_mhw_ens=[]\n",
    "    mlist=[]\n",
    "    flist=[]\n",
    "    for modi in mods:\n",
    "    \n",
    "        if il<nl[modi]:\n",
    "            \n",
    "            # Load MHWs\n",
    "            if is_detrend:\n",
    "                f_in = f'{dir}/mhw_{modi}_l{il}_detrended_{years[0]}_{years[1]}.nc'\n",
    "            else:\n",
    "                f_in = f'{dir}/mhw_{modi}_l{il}_{years[0]}_{years[1]}.nc'\n",
    "                print(f_in)\n",
    "            flist.append(f_in)\n",
    "    fin=xr.open_mfdataset(flist,chunks={'X':10,'Y':10,'M':-1},concat_dim='M',combine='nested',data_vars='minimal',\n",
    "                       coords='minimal',parallel=True,preprocess=lambda f: f.drop_vars([\"sst_an_thr\",\"mhw_prob\"]) )\n",
    "    fin2=fin.chunk({'X':10,'Y':10,'M':-1})\n",
    "    out=fin2.mean(dim='M').rename({'is_mhw':'mhw_prob'})\n",
    "    # Save to file\n",
    "    if is_detrend:\n",
    "        f_out = f'{dir}/mhw_MME_l{il}_detrended_{years[0]}_{years[1]}.nc'\n",
    "        print(f_out)\n",
    "    else:\n",
    "        f_out = f'{dir}/mhw_MME_l{il}_{years[0]}_{years[1]}.nc'\n",
    "    out.to_netcdf(f_out,mode='w')\n",
    "    fin.close()\n",
    "#             fin=xr.open_dataset(f_in)\n",
    "            \n",
    "#             is_mhw_ens.append(fin.is_mhw.values)\n",
    "#             # Record which model is associated with which forecasts\n",
    "#             mlist.append(modi)\n",
    "#             fin.close()\n",
    "\n",
    "#     # concatenate\n",
    "#     is_mhw_ens=np.concatenate(is_mhw_ens,axis=1) # concatenate along ensemble member axis\n",
    "#     # Find forecast MHW probability\n",
    "#     mhw_prob = np.squeeze(np.nanmean(is_mhw_ens,axis=1))\n",
    "\n",
    "\n",
    "#     xout=xr.Dataset(data_vars={'lon':(['X',],fin.lon.values),\n",
    "#                             'lat':(['Y',],fin.lat.values),\n",
    "#                             'time':(['S'],fin.time.values),\n",
    "#                             'year':(['S'],fin.year.values),\n",
    "#                             'month':(['S'],fin.month.values),\n",
    "#                             'is_mhw':(['S','M','Y','X'],is_mhw_ens),\n",
    "#                             'mhw_prob':(['S','Y','X'],mhw_prob)},\n",
    "#                 coords=dict(X=fin.X,Y=fin.Y,M=fin.M,S=fin.S),)\n",
    "#     xout.to_netcdf(f_out,mode='w')\n",
    "#     del is_mhw; del is_mhw_ens; del mhw_prob;\n",
    "print('\\nDone\\n\\n')"
   ]
  },
  {
   "cell_type": "code",
   "execution_count": null,
   "id": "ce3d335d-5f1d-4060-b5f7-fc06e08feb74",
   "metadata": {},
   "outputs": [],
   "source": [
    "break"
   ]
  },
  {
   "cell_type": "code",
   "execution_count": null,
   "id": "b0bc8596-eabb-433b-b06e-e2163987688e",
   "metadata": {},
   "outputs": [],
   "source": [
    "flist=['/space/hall5/sitestore/eccc/crd/ccrn/users/reo000/work/MHW/mhw/mhw_CanCM4i_l0_1991_2020.nc',\n",
    "       '/space/hall5/sitestore/eccc/crd/ccrn/users/reo000/work/MHW/mhw/mhw_COLA-RSMAS-CCSM4_l0_1991_2020.nc',\n",
    "      '/space/hall5/sitestore/eccc/crd/ccrn/users/reo000/work/MHW/mhw/mhw_GEM-NEMO_l0_1991_2020.nc',\n",
    "       '/space/hall5/sitestore/eccc/crd/ccrn/users/reo000/work/MHW/mhw/mhw_GFDL-SPEAR_l0_1991_2020.nc',\n",
    "       '/space/hall5/sitestore/eccc/crd/ccrn/users/reo000/work/MHW/mhw/mhw_NASA-GEOSS2S_l0_1991_2020.nc',\n",
    "       '/space/hall5/sitestore/eccc/crd/ccrn/users/reo000/work/MHW/mhw/mhw_NCEP-CFSv2_l0_1991_2020.nc']"
   ]
  },
  {
   "cell_type": "code",
   "execution_count": null,
   "id": "d6d3c50b-2b4a-4c45-84ce-c2fccac36327",
   "metadata": {},
   "outputs": [],
   "source": [
    "test=xr.open_mfdataset(flist,chunks={'X':10,'Y':10,'M':-1},concat_dim='M',combine='nested',data_vars='minimal',\n",
    "                       coords='minimal',parallel=True,preprocess=lambda f: f.drop_vars([\"sst_an_thr\",\"mhw_prob\"]) )"
   ]
  },
  {
   "cell_type": "code",
   "execution_count": null,
   "id": "010cede5-7224-4c21-ad36-069973cfb726",
   "metadata": {},
   "outputs": [],
   "source": [
    "test2=test.chunk({'X':10,'Y':10,'M':-1})\n",
    "test2.is_mhw"
   ]
  },
  {
   "cell_type": "code",
   "execution_count": null,
   "id": "88090c10-f5f9-492f-a4a9-4dab5aedb2d7",
   "metadata": {},
   "outputs": [],
   "source": [
    "out=test.mean(dim='M')"
   ]
  },
  {
   "cell_type": "code",
   "execution_count": null,
   "id": "2bc0de92-5479-401e-95b9-bdd5190a3182",
   "metadata": {},
   "outputs": [],
   "source": [
    "out"
   ]
  },
  {
   "cell_type": "code",
   "execution_count": null,
   "id": "4b6e1b74-aa39-47b2-b507-d28e9f6bc9f8",
   "metadata": {},
   "outputs": [],
   "source": [
    "plt.plot(out.is_mhw[:,140,200])"
   ]
  },
  {
   "cell_type": "code",
   "execution_count": null,
   "id": "1912dd3b-2ae5-4ed0-8a19-150f84f6d077",
   "metadata": {},
   "outputs": [],
   "source": []
  }
 ],
 "metadata": {
  "kernelspec": {
   "display_name": "Python (py39dc2)",
   "language": "python",
   "name": "py39dc2"
  },
  "language_info": {
   "codemirror_mode": {
    "name": "ipython",
    "version": 3
   },
   "file_extension": ".py",
   "mimetype": "text/x-python",
   "name": "python",
   "nbconvert_exporter": "python",
   "pygments_lexer": "ipython3",
   "version": "3.9.19"
  }
 },
 "nbformat": 4,
 "nbformat_minor": 5
}
