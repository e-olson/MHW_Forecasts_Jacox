{
 "cells": [
  {
   "cell_type": "code",
   "execution_count": 1,
   "id": "4602a45c-4365-4e00-a884-c539d358d47f",
   "metadata": {},
   "outputs": [],
   "source": [
    "import numpy as np\n",
    "import xarray as xr\n",
    "import datetime as dt\n",
    "import os\n",
    "import matplotlib.pyplot as plt"
   ]
  },
  {
   "cell_type": "code",
   "execution_count": 2,
   "id": "a6eec860-fd01-4bb2-b3d7-5b78c898cc16",
   "metadata": {},
   "outputs": [],
   "source": [
    "# Years used for climatology\n",
    "clim_years = [1991, 2020]\n",
    "\n",
    "#dir = '/Volumes/Data_2TB/NMME/SST/by_lead/concatenated';\n",
    "# Input/output directory\n",
    "basepath='/space/hall5/sitestore/eccc/crd/ccrn/users/reo000/work/MHW'\n",
    "dirin = basepath+'/concatenated'#/NMME_SST/by_lead\n",
    "#dirin = '/Volumes/Data_2TB/NMME/SST/by_lead/concatenated';\n",
    "dirout =  basepath+'/climatology'#/NMME_SST/by_lead\n",
    "#dirout = '/Volumes/Data_2TB/NMME/SST/by_lead/climatology';\n",
    "\n",
    "# Model names\n",
    "#           1              2               3            4              5             6\n",
    "mods = ['CanCM4i', 'COLA-RSMAS-CCSM4', 'GEM-NEMO', 'GFDL-SPEAR', 'NASA-GEOSS2S', 'NCEP-CFSv2']#\n",
    "nmod = len(mods)\n",
    "nl = dict(zip(mods,[11, 11, 11, 11, 8, 9])) # Max lead time for each model\n",
    "mods = [ 'NCEP-CFSv2',]#"
   ]
  },
  {
   "cell_type": "code",
   "execution_count": 3,
   "id": "40eb6d68-527f-4e64-8e0d-f7658f6b3ad3",
   "metadata": {},
   "outputs": [
    {
     "name": "stdout",
     "output_type": "stream",
     "text": [
      "\n",
      "Calculating climatologies for NMME forecasts...\n",
      "\n",
      "Processing {modi}...\n",
      "\n",
      "Done\n",
      "\n",
      "\n"
     ]
    }
   ],
   "source": [
    "# Loop through models\n",
    "print('\\nCalculating climatologies for NMME forecasts...\\n')\n",
    "for modi in mods:\n",
    "    \n",
    "    print(f'Processing {modi}...\\n')\n",
    "    \n",
    "    # Loop through lead times\n",
    "    for il in range(0,nl[modi]):\n",
    "        \n",
    "        # Load hindcast\n",
    "        f_in = f'{dirin}/sst_{modi}_l{il}_concatenated_ensmean.nc'\n",
    "        with xr.open_dataset(f_in,decode_times=False) as fin:\n",
    "            # Find year and month (time is in months since 1960-1-1)\n",
    "            time=fin.time.values\n",
    "            yy=np.array([int(el/12)+1960 for el in time])\n",
    "            mm=np.array([int(el%12)+1 for el in time])\n",
    "            \n",
    "            sst_clim=np.empty((12,len(fin.lat.values),len(fin.lon.values)))\n",
    "            # Calculate climatology\n",
    "            for im in range(1,13):\n",
    "                ind = (mm==im) & (yy>=clim_years[0]) & (yy<=clim_years[1])\n",
    "                sstsel=fin.sst[ind,:,:].data\n",
    "                sst_clim[im-1,:,:]=sstsel.mean(axis=0)\n",
    "                #sst_clim(:,:,im) = nanmean(sst(:,:,ind),3); \n",
    "    \n",
    "            # Save to file\n",
    "            f_out = f'{dirout}/sst_{modi}_l{il}_ensmean_climatology_{clim_years[0]}_{clim_years[1]}.nc'\n",
    "            xout=xr.Dataset(data_vars={'lon':(['X',],fin.lon.values),\n",
    "                                       'lat':(['Y',],fin.lat.values),\n",
    "                                    'sst_clim':(['Mon','Y','X'],sst_clim)},\n",
    "                        coords=dict(X=fin.X,Y=fin.Y,Mon=(\"Mon\",np.arange(1,13))),)\n",
    "            xout.to_netcdf(f_out,mode='w')\n",
    "print('Done\\n\\n')"
   ]
  },
  {
   "cell_type": "code",
   "execution_count": null,
   "id": "18bef835-54dd-4e4d-8f78-8965cea80cbc",
   "metadata": {},
   "outputs": [],
   "source": []
  }
 ],
 "metadata": {
  "kernelspec": {
   "display_name": "Python (py39dc2)",
   "language": "python",
   "name": "py39dc2"
  },
  "language_info": {
   "codemirror_mode": {
    "name": "ipython",
    "version": 3
   },
   "file_extension": ".py",
   "mimetype": "text/x-python",
   "name": "python",
   "nbconvert_exporter": "python",
   "pygments_lexer": "ipython3",
   "version": "3.9.19"
  }
 },
 "nbformat": 4,
 "nbformat_minor": 5
}
