{
 "cells": [
  {
   "cell_type": "code",
   "execution_count": 1,
   "id": "d33e2c64-4c8c-4ea8-b413-2e5feb7b7882",
   "metadata": {},
   "outputs": [],
   "source": [
    "import numpy as np\n",
    "import xarray as xr\n",
    "import datetime as dt\n",
    "import os\n",
    "import matplotlib.pyplot as plt"
   ]
  },
  {
   "cell_type": "code",
   "execution_count": 2,
   "id": "198c7ec3-9d85-49f1-85e2-303348ac2e83",
   "metadata": {},
   "outputs": [],
   "source": [
    "# Input/output directory\n",
    "basepath='/space/hall5/sitestore/eccc/crd/ccrn/users/reo000/work/MHW'\n",
    "dir = basepath+'/concatenated'#/NMME_SST/by_lead\n",
    "#dir = '/Volumes/Data_2TB/NMME/SST/by_lead/concatenated';"
   ]
  },
  {
   "cell_type": "code",
   "execution_count": 3,
   "id": "97d3a60e-6771-4ead-8988-fb94ef57deac",
   "metadata": {},
   "outputs": [],
   "source": [
    "# Model names\n",
    "#           1              2               3            4              5             6\n",
    "mods = ['CanCM4i', 'COLA-RSMAS-CCSM4', 'GEM-NEMO', 'GFDL-SPEAR', 'NASA-GEOSS2S', 'NCEP-CFSv2']\n",
    "nmod = len(mods)\n",
    "nl = dict(zip(mods,[11, 11, 11, 11, 8, 9])) # Max lead time for each model\n",
    "mods = ['NCEP-CFSv2',]"
   ]
  },
  {
   "cell_type": "code",
   "execution_count": 4,
   "id": "1828047e-0d2b-4cf9-9c1c-4a50460843cd",
   "metadata": {},
   "outputs": [
    {
     "name": "stdout",
     "output_type": "stream",
     "text": [
      "\n",
      "Calculating ensemble means for NMME forecasts...\n",
      "\n",
      "Processing {modi}...\n",
      "\n",
      "Lead\n",
      "  0\n",
      "  1\n",
      "  2\n",
      "  3\n",
      "  4\n",
      "  5\n",
      "  6\n",
      "  7\n",
      "  8\n",
      "\n",
      "Done\n",
      "\n",
      "\n"
     ]
    }
   ],
   "source": [
    "# Loop through models\n",
    "print('\\nCalculating ensemble means for NMME forecasts...\\n')\n",
    "for modi in mods:\n",
    "    \n",
    "    # Calculate ensemble means\n",
    "    print('Processing {modi}...\\n')\n",
    "    print('Lead')\n",
    "    \n",
    "    # Loop through lead times\n",
    "    for il in range(0,nl[modi]):\n",
    "        print(' ',il)\n",
    "        f_in = f'{dir}/sst_{modi}_l{il}_concatenated.nc'\n",
    "        f_out = f'{dir}/sst_{modi}_l{il}_concatenated_ensmean.nc'\n",
    "\n",
    "        with xr.open_dataset(f_in,decode_times=False) as fin:\n",
    "            sst=fin.sst.mean(dim='M')\n",
    "            xout=xr.Dataset(data_vars={'lon':(['X',],fin.lon.values),\n",
    "                            'lat':(['Y',],fin.lat.values),\n",
    "                            'time':(['S'],fin.time.values),\n",
    "                            'sst':(['S','Y','X'],sst.data)},\n",
    "                coords=dict(X=fin.X,Y=fin.Y,S=fin.S),)\n",
    "            xout.to_netcdf(f_out,mode='w')\n",
    "\n",
    "print('\\nDone\\n\\n')"
   ]
  }
 ],
 "metadata": {
  "kernelspec": {
   "display_name": "Python (py39dc2)",
   "language": "python",
   "name": "py39dc2"
  },
  "language_info": {
   "codemirror_mode": {
    "name": "ipython",
    "version": 3
   },
   "file_extension": ".py",
   "mimetype": "text/x-python",
   "name": "python",
   "nbconvert_exporter": "python",
   "pygments_lexer": "ipython3",
   "version": "3.9.19"
  }
 },
 "nbformat": 4,
 "nbformat_minor": 5
}
