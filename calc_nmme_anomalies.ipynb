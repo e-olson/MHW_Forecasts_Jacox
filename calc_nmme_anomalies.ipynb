{
 "cells": [
  {
   "cell_type": "code",
   "execution_count": 1,
   "id": "616de84d-fe1f-444e-91dc-7b1be83f319d",
   "metadata": {},
   "outputs": [],
   "source": [
    "import numpy as np\n",
    "import xarray as xr\n",
    "import datetime as dt\n",
    "import os\n",
    "import matplotlib.pyplot as plt"
   ]
  },
  {
   "cell_type": "code",
   "execution_count": 2,
   "id": "3bd3f2f4-96e1-46d9-8090-94fef64d9548",
   "metadata": {},
   "outputs": [],
   "source": [
    "# Years used for climatology\n",
    "clim_years = [1991, 2020]\n",
    "\n",
    "# Input/output directory\n",
    "basepath='/space/hall5/sitestore/eccc/crd/ccrn/users/reo000/work/MHW'\n",
    "dir_forc = basepath+'/concatenated'#/NMME_SST/by_lead\n",
    "# dir_forc = '/Volumes/Data_2TB/NMME/SST/by_lead/concatenated';\n",
    "dir_clim = basepath+'/climatology'\n",
    "# dir_clim = '/Volumes/Data_2TB/NMME/SST/by_lead/climatology';\n",
    "dirout = basepath+'/anomaly'\n",
    "# dirout = '/Volumes/Data_2TB/NMME/SST/by_lead/anomaly';\n",
    "\n",
    "# Model names\n",
    "#           1              2               3            4              5             6\n",
    "mods = ['CanCM4i', 'COLA-RSMAS-CCSM4', 'GEM-NEMO', 'GFDL-SPEAR', 'NASA-GEOSS2S', 'NCEP-CFSv2']#\n",
    "nmod = len(mods)\n",
    "nl = dict(zip(mods,[11, 11, 11, 11, 8, 9])) # Max lead time for each model\n",
    "mods = ['NCEP-CFSv2',]#, 'NCEP-CFSv2']#"
   ]
  },
  {
   "cell_type": "code",
   "execution_count": 3,
   "id": "bb41f7d3-c02e-420f-ad51-8db75cff8364",
   "metadata": {},
   "outputs": [
    {
     "name": "stdout",
     "output_type": "stream",
     "text": [
      "\n",
      "Calculating anomalies for NMME forecasts...\n",
      "\n",
      "\n",
      "Processing NCEP-CFSv2...\n",
      "\n",
      "Lead\n",
      "  0\n",
      "  1\n",
      "  2\n",
      "  3\n",
      "  4\n",
      "  5\n",
      "  6\n",
      "  7\n",
      "  8\n",
      "\n",
      "Done\n",
      "\n",
      "\n"
     ]
    }
   ],
   "source": [
    "# Loop through models\n",
    "print('\\nCalculating anomalies for NMME forecasts...\\n')\n",
    "for modi in mods:\n",
    "    \n",
    "    print(f'\\nProcessing {modi}...\\n')\n",
    "    print( 'Lead')\n",
    "    \n",
    "    # Loop through lead times\n",
    "    for il in range(0,nl[modi]):\n",
    "        print(' ',il)\n",
    "        \n",
    "        # Load climatology\n",
    "        f_clim = f'{dir_clim}/sst_{modi}_l{il}_ensmean_climatology_1991_2020.nc'\n",
    "        fclim = xr.open_dataset(f_clim,decode_times=False)\n",
    "        sst_clim = fclim.sst_clim.values\n",
    "    \n",
    "        # Load hindcast/forecast\n",
    "        f_in = f'{dir_forc}/sst_{modi}_l{il}_concatenated.nc'\n",
    "        fin = xr.open_dataset(f_in,decode_times=False)\n",
    "        sst0=fin.sst.values\n",
    "        time=fin.time.values\n",
    "        lon=fin.lon.values\n",
    "        lat=fin.lat.values\n",
    "        \n",
    "        # Constrain to specified years\n",
    "        yy=np.array([int(el/12)+1960 for el in time])\n",
    "        mm=np.array([int(el%12)+1 for el in time])\n",
    "        ind = (yy>=clim_years[0]) & (yy<=clim_years[1]);\n",
    "        sst = sst0[ind,:,:,:]\n",
    "        yy = yy[ind]\n",
    "        mm = mm[ind]\n",
    "        time = time[ind];\n",
    "\n",
    "        # Loop through time and compute anomalies\n",
    "        nt = len(yy)\n",
    "        \n",
    "        sst_an=np.empty((nt,)+np.shape(sst)[1:])\n",
    "        for it in range(0,nt):\n",
    "            sst_an[it,:,:,:] = sst[it,:,:,:] - sst_clim[mm[it]-1,:,:]\n",
    "\n",
    "        # Save to file\n",
    "        f_out = f'{dirout}/sst_{modi}_l{il}_anomaly_{clim_years[0]}_{clim_years[1]}.nc'\n",
    "        year = yy;\n",
    "        month = mm;\n",
    "        xout=xr.Dataset(data_vars={'lon':(['X',],lon),\n",
    "                                'lat':(['Y',],lat),\n",
    "                                'time':(['S'],time),\n",
    "                                'year':(['S'],year),\n",
    "                                'month':(['S'],month),\n",
    "                                'sst_an':(['S','M','Y','X'],sst_an)},\n",
    "                    coords=dict(X=fin.X,Y=fin.Y,M=fin.M,S=(\"S\",time)),)\n",
    "        xout.to_netcdf(f_out,mode='w')\n",
    "        fin.close()\n",
    "        fclim.close()\n",
    "        del sst;del sst_an;del time;del year;del month\n",
    "print('\\nDone\\n\\n')"
   ]
  },
  {
   "cell_type": "code",
   "execution_count": null,
   "id": "14bd3c40-64fd-41f1-87be-a370a7148acf",
   "metadata": {},
   "outputs": [],
   "source": []
  }
 ],
 "metadata": {
  "kernelspec": {
   "display_name": "Python (py39dc2)",
   "language": "python",
   "name": "py39dc2"
  },
  "language_info": {
   "codemirror_mode": {
    "name": "ipython",
    "version": 3
   },
   "file_extension": ".py",
   "mimetype": "text/x-python",
   "name": "python",
   "nbconvert_exporter": "python",
   "pygments_lexer": "ipython3",
   "version": "3.9.19"
  }
 },
 "nbformat": 4,
 "nbformat_minor": 5
}
