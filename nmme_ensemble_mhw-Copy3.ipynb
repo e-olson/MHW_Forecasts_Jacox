{
 "cells": [
  {
   "cell_type": "code",
   "execution_count": 1,
   "id": "82a94e5b-96f5-4dc9-9dc8-b1e731c6fbcb",
   "metadata": {},
   "outputs": [],
   "source": [
    "import numpy as np\n",
    "import xarray as xr\n",
    "import datetime as dt\n",
    "import os\n",
    "import matplotlib.pyplot as plt"
   ]
  },
  {
   "cell_type": "code",
   "execution_count": 2,
   "id": "66fba2f3-6467-4c9d-a028-be916f12f394",
   "metadata": {},
   "outputs": [],
   "source": [
    "is_detrend= 1#0 #1 to use detrended anomalies (default), 0 otherwise"
   ]
  },
  {
   "cell_type": "code",
   "execution_count": 3,
   "id": "4bc4870f-941e-4f3d-9081-fc5ed846bc6d",
   "metadata": {},
   "outputs": [],
   "source": [
    "# Years to process and years to use as climatology for thresholds\n",
    "years = [1991, 2020]\n",
    "clim_years = [1991, 2020]\n",
    "\n",
    "basepath='/space/hall5/sitestore/eccc/crd/ccrn/users/reo000/work/MHW'\n",
    "# Input/output directory\n",
    "if is_detrend:\n",
    "    dir = basepath+'/mhw/detrended';\n",
    "else:\n",
    "    dir = basepath+'/mhw';\n",
    "\n",
    "# Model names\n",
    "#           1              2               3            4              5             6\n",
    "mods = ['CanCM4i', 'COLA-RSMAS-CCSM4', 'GEM-NEMO', 'GFDL-SPEAR', 'NASA-GEOSS2S', 'NCEP-CFSv2']#\n",
    "nmod = len(mods)\n",
    "nl = dict(zip(mods,[11, 11, 11, 11, 8, 9])) # Max lead time for each model\n",
    "#mods = [ 'GFDL-SPEAR', 'NASA-GEOSS2S', 'NCEP-CFSv2']#"
   ]
  },
  {
   "cell_type": "code",
   "execution_count": null,
   "id": "c67ff64c-efeb-4404-aba2-445c0e750c37",
   "metadata": {},
   "outputs": [
    {
     "name": "stdout",
     "output_type": "stream",
     "text": [
      "\n",
      "Building multimodel ensemble for NMME MHW forecasts...\n",
      "\n",
      "Lead\n",
      "  8\n",
      "/space/hall5/sitestore/eccc/crd/ccrn/users/reo000/work/MHW/mhw/detrended/mhw_MME_l8_detrended_1991_2020.nc\n"
     ]
    }
   ],
   "source": [
    "# Loop through lead times\n",
    "print('\\nBuilding multimodel ensemble for NMME MHW forecasts...\\n')\n",
    "print('Lead')\n",
    "for il in (8,):#range(0,np.max(list(nl.values()))):\n",
    "    print(' ',il)\n",
    "        \n",
    "    # Loop through models\n",
    "    is_mhw_ens=[]\n",
    "    mlist=[]\n",
    "    flist=[]\n",
    "    for modi in mods:\n",
    "    \n",
    "        if il<nl[modi]:\n",
    "            \n",
    "            # Load MHWs\n",
    "            if is_detrend:\n",
    "                f_in = f'{dir}/mhw_{modi}_l{il}_detrended_{years[0]}_{years[1]}.nc'\n",
    "            else:\n",
    "                f_in = f'{dir}/mhw_{modi}_l{il}_{years[0]}_{years[1]}.nc'\n",
    "                print(f_in)\n",
    "            flist.append(f_in)\n",
    "    fin=xr.open_mfdataset(flist,chunks={'X':10,'Y':10,'M':-1},concat_dim='M',combine='nested',data_vars='minimal',\n",
    "                       coords='minimal',parallel=True,preprocess=lambda f: f.drop_vars([\"sst_an_thr\",\"mhw_prob\"]) )\n",
    "    fin2=fin.chunk({'X':10,'Y':10,'M':-1})\n",
    "    out=fin2.mean(dim='M').rename({'is_mhw':'mhw_prob'})\n",
    "    # Save to file\n",
    "    if is_detrend:\n",
    "        f_out = f'{dir}/mhw_MME_l{il}_detrended_{years[0]}_{years[1]}.nc'\n",
    "        print(f_out)\n",
    "    else:\n",
    "        f_out = f'{dir}/mhw_MME_l{il}_{years[0]}_{years[1]}.nc'\n",
    "    out.to_netcdf(f_out,mode='w')\n",
    "    fin.close()\n",
    "#             fin=xr.open_dataset(f_in)\n",
    "            \n",
    "#             is_mhw_ens.append(fin.is_mhw.values)\n",
    "#             # Record which model is associated with which forecasts\n",
    "#             mlist.append(modi)\n",
    "#             fin.close()\n",
    "\n",
    "#     # concatenate\n",
    "#     is_mhw_ens=np.concatenate(is_mhw_ens,axis=1) # concatenate along ensemble member axis\n",
    "#     # Find forecast MHW probability\n",
    "#     mhw_prob = np.squeeze(np.nanmean(is_mhw_ens,axis=1))\n",
    "\n",
    "\n",
    "#     xout=xr.Dataset(data_vars={'lon':(['X',],fin.lon.values),\n",
    "#                             'lat':(['Y',],fin.lat.values),\n",
    "#                             'time':(['S'],fin.time.values),\n",
    "#                             'year':(['S'],fin.year.values),\n",
    "#                             'month':(['S'],fin.month.values),\n",
    "#                             'is_mhw':(['S','M','Y','X'],is_mhw_ens),\n",
    "#                             'mhw_prob':(['S','Y','X'],mhw_prob)},\n",
    "#                 coords=dict(X=fin.X,Y=fin.Y,M=fin.M,S=fin.S),)\n",
    "#     xout.to_netcdf(f_out,mode='w')\n",
    "#     del is_mhw; del is_mhw_ens; del mhw_prob;\n",
    "print('\\nDone\\n\\n')"
   ]
  },
  {
   "cell_type": "code",
   "execution_count": null,
   "id": "ce3d335d-5f1d-4060-b5f7-fc06e08feb74",
   "metadata": {},
   "outputs": [],
   "source": [
    "break"
   ]
  },
  {
   "cell_type": "code",
   "execution_count": null,
   "id": "b0bc8596-eabb-433b-b06e-e2163987688e",
   "metadata": {},
   "outputs": [],
   "source": [
    "flist=['/space/hall5/sitestore/eccc/crd/ccrn/users/reo000/work/MHW/mhw/mhw_CanCM4i_l0_1991_2020.nc',\n",
    "       '/space/hall5/sitestore/eccc/crd/ccrn/users/reo000/work/MHW/mhw/mhw_COLA-RSMAS-CCSM4_l0_1991_2020.nc',\n",
    "      '/space/hall5/sitestore/eccc/crd/ccrn/users/reo000/work/MHW/mhw/mhw_GEM-NEMO_l0_1991_2020.nc',\n",
    "       '/space/hall5/sitestore/eccc/crd/ccrn/users/reo000/work/MHW/mhw/mhw_GFDL-SPEAR_l0_1991_2020.nc',\n",
    "       '/space/hall5/sitestore/eccc/crd/ccrn/users/reo000/work/MHW/mhw/mhw_NASA-GEOSS2S_l0_1991_2020.nc',\n",
    "       '/space/hall5/sitestore/eccc/crd/ccrn/users/reo000/work/MHW/mhw/mhw_NCEP-CFSv2_l0_1991_2020.nc']"
   ]
  },
  {
   "cell_type": "code",
   "execution_count": null,
   "id": "d6d3c50b-2b4a-4c45-84ce-c2fccac36327",
   "metadata": {},
   "outputs": [],
   "source": [
    "test=xr.open_mfdataset(flist,chunks={'X':10,'Y':10,'M':-1},concat_dim='M',combine='nested',data_vars='minimal',\n",
    "                       coords='minimal',parallel=True,preprocess=lambda f: f.drop_vars([\"sst_an_thr\",\"mhw_prob\"]) )"
   ]
  },
  {
   "cell_type": "code",
   "execution_count": null,
   "id": "010cede5-7224-4c21-ad36-069973cfb726",
   "metadata": {},
   "outputs": [],
   "source": [
    "test2=test.chunk({'X':10,'Y':10,'M':-1})\n",
    "test2.is_mhw"
   ]
  },
  {
   "cell_type": "code",
   "execution_count": null,
   "id": "88090c10-f5f9-492f-a4a9-4dab5aedb2d7",
   "metadata": {},
   "outputs": [],
   "source": [
    "out=test.mean(dim='M')"
   ]
  },
  {
   "cell_type": "code",
   "execution_count": null,
   "id": "2bc0de92-5479-401e-95b9-bdd5190a3182",
   "metadata": {},
   "outputs": [],
   "source": [
    "out"
   ]
  },
  {
   "cell_type": "code",
   "execution_count": null,
   "id": "4b6e1b74-aa39-47b2-b507-d28e9f6bc9f8",
   "metadata": {},
   "outputs": [],
   "source": [
    "plt.plot(out.is_mhw[:,140,200])"
   ]
  },
  {
   "cell_type": "code",
   "execution_count": null,
   "id": "1912dd3b-2ae5-4ed0-8a19-150f84f6d077",
   "metadata": {},
   "outputs": [],
   "source": []
  }
 ],
 "metadata": {
  "kernelspec": {
   "display_name": "Python (py39dc2)",
   "language": "python",
   "name": "py39dc2"
  },
  "language_info": {
   "codemirror_mode": {
    "name": "ipython",
    "version": 3
   },
   "file_extension": ".py",
   "mimetype": "text/x-python",
   "name": "python",
   "nbconvert_exporter": "python",
   "pygments_lexer": "ipython3",
   "version": "3.9.19"
  }
 },
 "nbformat": 4,
 "nbformat_minor": 5
}
