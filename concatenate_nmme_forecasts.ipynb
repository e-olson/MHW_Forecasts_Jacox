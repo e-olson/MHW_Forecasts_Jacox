{
 "cells": [
  {
   "cell_type": "code",
   "execution_count": 1,
   "id": "6927d540-ede5-43a0-8d27-cd07844b4a85",
   "metadata": {},
   "outputs": [],
   "source": [
    "import numpy as np\n",
    "import xarray as xr\n",
    "import datetime as dt\n",
    "import os\n",
    "import matplotlib.pyplot as plt"
   ]
  },
  {
   "cell_type": "code",
   "execution_count": 2,
   "id": "1893559e-b376-4faf-94c4-f945ae17007c",
   "metadata": {},
   "outputs": [],
   "source": [
    "# Directories '/space/hall5/sitestore/eccc/crd/ccrn/users/reo000/work/MHW/NMME_SST/by_lead'\n",
    "basepath='/space/hall5/sitestore/eccc/crd/ccrn/users/reo000/work/MHW'\n",
    "dir_hc = basepath+'/hindcast'#/NMME_SST/by_lead\n",
    "#'/Volumes/Data_2TB/NMME/SST/by_lead/hindcast';\n",
    "dir_fc = basepath+'/forecast'#/NMME_SST/by_lead\n",
    "#'/Volumes/Data_2TB/NMME/SST/by_lead/forecast';\n",
    "dir_out = basepath+'/concatenated'#/NMME_SST/by_lead\n",
    "#'/Volumes/Data_2TB/NMME/SST/by_lead/concatenated';"
   ]
  },
  {
   "cell_type": "code",
   "execution_count": 3,
   "id": "6dc3b315-91ed-42aa-9bef-b6b5e0a4d1d4",
   "metadata": {},
   "outputs": [
    {
     "data": {
      "text/plain": [
       "{'CanCM4i': 11,\n",
       " 'COLA-RSMAS-CCSM4': 11,\n",
       " 'GEM-NEMO': 11,\n",
       " 'GFDL-SPEAR': 11,\n",
       " 'NASA-GEOSS2S': 8,\n",
       " 'NCEP-CFSv2': 9}"
      ]
     },
     "execution_count": 3,
     "metadata": {},
     "output_type": "execute_result"
    }
   ],
   "source": [
    "# Model names\n",
    "#           1              2               3            4              5             6\n",
    "mods = ['CanCM4i', 'COLA-RSMAS-CCSM4', 'GEM-NEMO', 'GFDL-SPEAR', 'NASA-GEOSS2S', 'NCEP-CFSv2']\n",
    "nmod = len(mods)\n",
    "nl = dict(zip(mods,[11, 11, 11, 11, 8, 9])) # Max lead time for each model\n",
    "nl"
   ]
  },
  {
   "cell_type": "code",
   "execution_count": 4,
   "id": "83d26a00-3b01-415d-a490-d880ba445088",
   "metadata": {},
   "outputs": [
    {
     "name": "stdout",
     "output_type": "stream",
     "text": [
      "\n",
      "Concatenating hindcasts and forecasts...\n",
      "\n",
      "\n",
      "Processing NCEP-CFSv2...\n",
      "\n",
      " Lead\n",
      "  7\n",
      "\n",
      "Done\n",
      "\n",
      "\n"
     ]
    }
   ],
   "source": [
    "# Loop through models\n",
    "print('\\nConcatenating hindcasts and forecasts...\\n')\n",
    "for modi in [ 'NCEP-CFSv2',]:#mods: # for imod = 1:nmod\n",
    "    \n",
    "    print(f'\\nProcessing {modi}...\\n')\n",
    "    print(' Lead')\n",
    "    \n",
    "    # Loop through lead times\n",
    "    for il in (8,):#range(0,nl[modi]):\n",
    "        print(' ',il)\n",
    "        \n",
    "        # Load hindcast\n",
    "        f_inh = f'{dir_hc}/sst_{modi}_hindcast_l{il}.nc';\n",
    "        with xr.open_dataset(f_inh,decode_times=False) as fih:\n",
    "            lat=fih.lat.values\n",
    "            lon=fih.lon.values\n",
    "            time1=fih.time.values\n",
    "            sst1 = fih.sst.values\n",
    "        if not modi=='NCEP-CFSv2': #if imod~=6\n",
    "            sst1 = fih.sst.values\n",
    "            nm = np.shape(sst1)[1] # of ensemble members\n",
    "        else:\n",
    "            nm = 24; # For CFSv2\n",
    "            sst1 = fih.sst[:,:24,:,:].values\n",
    "\n",
    "        # Get mask\n",
    "        #if il==0:\n",
    "        tmp = sst1[0,0,:,:] #sst1(:,:,1,1);\n",
    "        mask = np.ones(np.shape(tmp))\n",
    "        if modi in {'CanCM4i', 'GEM-NEMO'}:\n",
    "            mask[tmp==0] = 0\n",
    "        elif modi in {'COLA-RSMAS-CCSM4', 'GFDL-SPEAR'}:\n",
    "            mask[np.abs(tmp)>1e3] = 0\n",
    "        elif modi in {'NASA-GEOSS2S', 'NCEP-CFSv2'}:\n",
    "            mask[np.isnan(tmp)] = 0\n",
    "\n",
    "        # Concatenate\n",
    "        if not modi in {'COLA-RSMAS-CCSM4','NCEP-CFSv2'}:#imod~=2 && imod~=6\n",
    "            # Load forecast\n",
    "            f_inf = f'{dir_fc}/sst_{modi}_forecast_l{il}.nc'\n",
    "            with xr.open_dataset(f_inf,decode_times=False) as fif:\n",
    "                sst2=fif.sst.values\n",
    "                time2=fif.time.values\n",
    "            \n",
    "            # Constrain to number of members in hindcast\n",
    "            sst2 = sst2[:,:nm,:,:]\n",
    "           \n",
    "            # Concatenate hindcast and forecast, eliminating temporal overlap\n",
    "            ind = time2>np.max(time1) #find(time2>max(time1));\n",
    "            time2 = time2[ind];\n",
    "            sst2 = sst2[ind,:,:,:]\n",
    "            time = np.concatenate([time1,time2])\n",
    "            sst = np.concatenate((sst1,sst2),axis=0);\n",
    "        else:\n",
    "            sst = sst1;\n",
    "            time = time1;\n",
    "            \n",
    "        # Adjust units if necessary\n",
    "        if modi in {'CanCM4i', 'GEM-NEMO'}:\n",
    "            sst = sst - 273.15 # Convert K to C\n",
    "        \n",
    "        # Remove outliers / missing data and apply mask from hindcast\n",
    "        sst=np.where((np.abs(sst)>100) | (mask*np.ones(np.shape(sst))==0),np.nan,sst) #sst(abs(sst)>100) = nan;\n",
    "\n",
    "        # Save to file\n",
    "        f_out = f'{dir_out}/sst_{modi}_l{il}_concatenated.nc'\n",
    "        with xr.open_dataset(f_inh,decode_times=False) as fi:\n",
    "            xout=xr.Dataset(data_vars={'lon':(['X',],lon),\n",
    "                                    'lat':(['Y',],lat),\n",
    "                                    'time':(['S'],time),\n",
    "                                    'sst':(['S','M','Y','X'],sst)},\n",
    "                        coords=dict(X=fi.X,Y=fi.Y,M=(\"M\",np.arange(0,nm)),S=(\"S\",time)),)\n",
    "            xout.to_netcdf(f_out,mode='w')\n",
    "        del sst; del sst1;\n",
    "print('\\nDone\\n\\n')"
   ]
  },
  {
   "cell_type": "code",
   "execution_count": null,
   "id": "de1bdf5e-907f-48c3-926d-4e50c4ab9a82",
   "metadata": {},
   "outputs": [],
   "source": []
  }
 ],
 "metadata": {
  "kernelspec": {
   "display_name": "Python (py39dc2)",
   "language": "python",
   "name": "py39dc2"
  },
  "language_info": {
   "codemirror_mode": {
    "name": "ipython",
    "version": 3
   },
   "file_extension": ".py",
   "mimetype": "text/x-python",
   "name": "python",
   "nbconvert_exporter": "python",
   "pygments_lexer": "ipython3",
   "version": "3.9.19"
  }
 },
 "nbformat": 4,
 "nbformat_minor": 5
}
